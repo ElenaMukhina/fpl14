{
 "cells": [
  {
   "cell_type": "code",
   "execution_count": 63,
   "metadata": {
    "collapsed": false
   },
   "outputs": [
    {
     "name": "stdout",
     "output_type": "stream",
     "text": [
      "Epoch: 0001 cost=38.900270462\n",
      "Epoch: 0002 cost=28.585843722\n",
      "Epoch: 0003 cost=22.827824275\n",
      "Epoch: 0004 cost=19.941397667\n",
      "Epoch: 0005 cost=16.148173809\n",
      "Epoch: 0006 cost=13.181587378\n",
      "Epoch: 0007 cost=11.793984731\n",
      "Epoch: 0008 cost=10.426801999\n",
      "Epoch: 0009 cost=9.175588131\n",
      "Epoch: 0010 cost=7.885266383\n",
      "Epoch: 0011 cost=6.569847663\n",
      "Epoch: 0012 cost=5.422888120\n",
      "Epoch: 0013 cost=4.213942250\n",
      "Epoch: 0014 cost=3.010202209\n",
      "Epoch: 0015 cost=1.900006255\n",
      "Epoch: 0016 cost=1.065664689\n",
      "Epoch: 0017 cost=0.559947843\n",
      "Epoch: 0018 cost=0.338982336\n",
      "Epoch: 0019 cost=0.260435328\n",
      "Epoch: 0020 cost=0.222019730\n",
      "Epoch: 0021 cost=0.200227487\n",
      "Epoch: 0022 cost=0.188106300\n",
      "Epoch: 0023 cost=0.179898936\n",
      "Epoch: 0024 cost=0.173810280\n",
      "Epoch: 0025 cost=0.169746562\n",
      "Epoch: 0026 cost=0.166614572\n",
      "Epoch: 0027 cost=0.163786497\n",
      "Epoch: 0028 cost=0.161486600\n",
      "Epoch: 0029 cost=0.159565430\n",
      "Epoch: 0030 cost=0.157743239\n",
      "Optimization Finished!\n",
      "Accuracy: 0.94\n"
     ]
    }
   ],
   "source": [
    "import numpy as np\n",
    "import tensorflow as tf \n",
    "from sklearn import datasets\n",
    "from sklearn.preprocessing import label_binarize\n",
    "iris1 = datasets.load_iris()\n",
    "iris = np.column_stack([iris1['data'], iris1['target']])\n",
    "np.random.shuffle(iris)\n",
    "target = label_binarize(iris[:, -1], classes=[0, 1, 2])\n",
    "#print(iris)\n",
    "#print(len(iris))\n",
    "\n",
    "# Parameters\n",
    "learning_rate = 0.001\n",
    "training_epochs = 30\n",
    "batch_size = 15\n",
    "display_step = 1\n",
    "\n",
    "# Network Parameters\n",
    "n_hidden_1 = 15 # 1st layer number of neurons\n",
    "n_hidden_2 = 15 # 2nd layer number of neurons\n",
    "n_input = 4 #  data input \n",
    "n_classes = 3 #  total classes \n",
    "\n",
    "# tf Graph input\n",
    "X = tf.placeholder(\"float\", [None, n_input])\n",
    "Y = tf.placeholder(\"float\", [None, n_classes])\n",
    "\n",
    "# Store layers weight & bias\n",
    "weights = {\n",
    "    'w1': tf.Variable(tf.random_normal([n_input, n_hidden_1])),\n",
    "    'w2': tf.Variable(tf.random_normal([n_hidden_1, n_hidden_2])),\n",
    "    'out': tf.Variable(tf.random_normal([n_hidden_2, n_classes]))\n",
    "}\n",
    "biases = {\n",
    "    'b1': tf.Variable(tf.random_normal([n_hidden_1])),\n",
    "    'b2': tf.Variable(tf.random_normal([n_hidden_2])),\n",
    "    'out': tf.Variable(tf.random_normal([n_classes]))\n",
    "}\n",
    "\n",
    "\n",
    "# Create model\n",
    "def multilayer_perceptron(x):\n",
    "    # Hidden fully connected layer with neurons\n",
    "    layer_1 = tf.add(tf.matmul(x, weights['w1']), biases['b1'])\n",
    "    # Hidden fully connected layer with neurons\n",
    "    layer_2 = tf.add(tf.matmul(layer_1, weights['w2']), biases['b2'])\n",
    "    # Output fully connected layer with a neuron for each class\n",
    "    out_layer = tf.matmul(layer_2, weights['out']) + biases['out']\n",
    "    return out_layer\n",
    "\n",
    "# Construct model\n",
    "logits = multilayer_perceptron(X)\n",
    "\n",
    "# Define loss and optimizer\n",
    "loss_op = tf.reduce_mean(tf.nn.softmax_cross_entropy_with_logits(logits = logits, labels = Y))\n",
    "optimizer = tf.train.AdamOptimizer(learning_rate = learning_rate)\n",
    "train_op = optimizer.minimize(loss_op)\n",
    "# Initializing the variables\n",
    "init = tf.global_variables_initializer()\n",
    "\n",
    "with tf.Session() as sess:\n",
    "    sess.run(init)\n",
    "\n",
    "    # Training cycle\n",
    "    for epoch in range(training_epochs):\n",
    "        avg_cost = 0.\n",
    "        total_batch = int(100/batch_size) \n",
    "        train_iris = iris[:100, :4] \n",
    "        train_target = target[:100]\n",
    "        # Loop over all batches\n",
    "        for i in range(total_batch):\n",
    "            batch_x, batch_y = train_iris[i:i+batch_size], train_target[i:i+batch_size]\n",
    "            # Run optimization op (backprop) and cost op (to get loss value)\n",
    "            _, c = sess.run([train_op, loss_op], feed_dict={X: batch_x,\n",
    "                                                            Y: batch_y})\n",
    "            # Compute average loss\n",
    "            avg_cost += c / total_batch\n",
    "        # Display logs per epoch step\n",
    "        if epoch % display_step == 0:\n",
    "            print(\"Epoch:\", '%04d' % (epoch+1), \"cost={:.9f}\".format(avg_cost))\n",
    "    print(\"Optimization Finished!\")\n",
    "\n",
    "    # Test model\n",
    "    pred = tf.nn.softmax(logits)  # Apply softmax to logits\n",
    "    correct_prediction = tf.equal(tf.argmax(pred, 1), tf.argmax(Y, 1))\n",
    "    # Calculate accuracy\n",
    "    accuracy = tf.reduce_mean(tf.cast(correct_prediction, \"float\"))\n",
    "    print(\"Accuracy:\", accuracy.eval({X: iris[100:150, :4], Y: target[100:150]}))"
   ]
  },
  {
   "cell_type": "code",
   "execution_count": null,
   "metadata": {
    "collapsed": false
   },
   "outputs": [],
   "source": []
  },
  {
   "cell_type": "code",
   "execution_count": null,
   "metadata": {
    "collapsed": false
   },
   "outputs": [],
   "source": []
  },
  {
   "cell_type": "code",
   "execution_count": null,
   "metadata": {
    "collapsed": false
   },
   "outputs": [],
   "source": [
    "\n",
    "\n",
    "        "
   ]
  },
  {
   "cell_type": "code",
   "execution_count": null,
   "metadata": {
    "collapsed": true
   },
   "outputs": [],
   "source": []
  },
  {
   "cell_type": "code",
   "execution_count": null,
   "metadata": {
    "collapsed": true
   },
   "outputs": [],
   "source": []
  }
 ],
 "metadata": {
  "kernelspec": {
   "display_name": "Python 3",
   "language": "python",
   "name": "python3"
  },
  "language_info": {
   "codemirror_mode": {
    "name": "ipython",
    "version": 3
   },
   "file_extension": ".py",
   "mimetype": "text/x-python",
   "name": "python",
   "nbconvert_exporter": "python",
   "pygments_lexer": "ipython3",
   "version": "3.6.0"
  }
 },
 "nbformat": 4,
 "nbformat_minor": 2
}
