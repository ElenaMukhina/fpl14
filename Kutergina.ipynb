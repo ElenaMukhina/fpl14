{
 "cells": [
  {
   "cell_type": "code",
   "execution_count": 37,
   "metadata": {},
   "outputs": [],
   "source": [
    "from sklearn import datasets\n",
    "from sklearn.preprocessing import label_binarize\n",
    "import numpy as np\n",
    "import tensorflow as tf"
   ]
  },
  {
   "cell_type": "code",
   "execution_count": 38,
   "metadata": {},
   "outputs": [
    {
     "name": "stdout",
     "output_type": "stream",
     "text": [
      "150\n"
     ]
    }
   ],
   "source": [
    "datairis = datasets.load_iris()\n",
    "iris = np.column_stack([datairis['data'], datairis['target']])\n",
    "np.random.shuffle(iris)\n",
    "target_multiclass = label_binarize(iris[:, -1], classes=[0, 1, 2])\n",
    "print(len(iris))"
   ]
  },
  {
   "cell_type": "code",
   "execution_count": 39,
   "metadata": {
    "collapsed": true
   },
   "outputs": [],
   "source": [
    "# Parameters\n",
    "learning_rate = 0.001\n",
    "training_epochs = 30\n",
    "batch_size = 20\n",
    "display_step = 1\n",
    "\n",
    "# Network Parameters\n",
    "n_hidden_1 = 20\n",
    "n_hidden_2 = 20 \n",
    "n_input = 4 \n",
    "n_classes = 3 "
   ]
  },
  {
   "cell_type": "code",
   "execution_count": 40,
   "metadata": {},
   "outputs": [
    {
     "name": "stdout",
     "output_type": "stream",
     "text": [
      "Epoch: 0001 cost=30.165155411\n",
      "Epoch: 0002 cost=25.060329710\n",
      "Epoch: 0003 cost=20.835253307\n",
      "Epoch: 0004 cost=17.013180052\n",
      "Epoch: 0005 cost=13.189128467\n",
      "Epoch: 0006 cost=9.314477171\n",
      "Epoch: 0007 cost=5.412304265\n",
      "Epoch: 0008 cost=1.981322271\n",
      "Epoch: 0009 cost=1.133216381\n",
      "Epoch: 0010 cost=1.021927008\n",
      "Epoch: 0011 cost=0.608997336\n",
      "Epoch: 0012 cost=0.551624511\n",
      "Epoch: 0013 cost=0.516119489\n",
      "Epoch: 0014 cost=0.493002964\n",
      "Epoch: 0015 cost=0.471130350\n",
      "Epoch: 0016 cost=0.458772770\n",
      "Epoch: 0017 cost=0.442369440\n",
      "Epoch: 0018 cost=0.427883438\n",
      "Epoch: 0019 cost=0.413910014\n",
      "Epoch: 0020 cost=0.399177087\n",
      "Epoch: 0021 cost=0.384251667\n",
      "Epoch: 0022 cost=0.369251000\n",
      "Epoch: 0023 cost=0.353776097\n",
      "Epoch: 0024 cost=0.337986082\n",
      "Epoch: 0025 cost=0.321990115\n",
      "Epoch: 0026 cost=0.305633886\n",
      "Epoch: 0027 cost=0.289050396\n",
      "Epoch: 0028 cost=0.272264042\n",
      "Epoch: 0029 cost=0.255268653\n",
      "Epoch: 0030 cost=0.238190461\n",
      "Optimization Finished!\n",
      "Accuracy: 0.96\n"
     ]
    }
   ],
   "source": [
    "X = tf.placeholder(\"float\", [None, n_input])\n",
    "Y = tf.placeholder(\"float\", [None, n_classes])\n",
    "weights = {\n",
    "    'h1': tf.Variable(tf.random_normal([n_input, n_hidden_1])),\n",
    "    'h2': tf.Variable(tf.random_normal([n_hidden_1, n_hidden_2])),\n",
    "    'out': tf.Variable(tf.random_normal([n_hidden_2, n_classes]))\n",
    "}\n",
    "biases = {\n",
    "    'b1': tf.Variable(tf.random_normal([n_hidden_1])),\n",
    "    'b2': tf.Variable(tf.random_normal([n_hidden_2])),\n",
    "    'out': tf.Variable(tf.random_normal([n_classes]))\n",
    "}\n",
    "def multilayer_perceptron(x):\n",
    "    layer_1 = tf.add(tf.matmul(x, weights['h1']), biases['b1'])\n",
    "    layer_2 = tf.add(tf.matmul(layer_1, weights['h2']), biases['b2'])\n",
    "    out_layer = tf.matmul(layer_2, weights['out']) + biases['out']\n",
    "    return out_layer\n",
    "logits = multilayer_perceptron(X)\n",
    "loss_op = tf.reduce_mean(tf.nn.softmax_cross_entropy_with_logits(\n",
    "    logits=logits, labels=Y))\n",
    "optimizer = tf.train.AdamOptimizer(learning_rate=learning_rate)\n",
    "train_op = optimizer.minimize(loss_op)\n",
    "init = tf.global_variables_initializer()\n",
    "with tf.Session() as sess:\n",
    "    sess.run(init)\n",
    "    for epoch in range(training_epochs):\n",
    "        avg_cost = 0.\n",
    "        total_batch = int(150/batch_size)\n",
    "        for i in range(total_batch):\n",
    "            batch_x, batch_y = iris[i:i+batch_size,:4], target_multiclass[i:i+batch_size]\n",
    "            _, c = sess.run([train_op, loss_op], feed_dict={X: batch_x,Y: batch_y})\n",
    "            avg_cost += c / total_batch\n",
    "        if epoch % display_step == 0:\n",
    "            print(\"Epoch:\", '%04d' % (epoch+1), \"cost={:.9f}\".format(avg_cost))\n",
    "    print(\"Optimization Finished!\")\n",
    "    pred = tf.nn.softmax(logits)  \n",
    "    correct_prediction = tf.equal(tf.argmax(pred, 1), tf.argmax(Y, 1))\n",
    "    accuracy = tf.reduce_mean(tf.cast(correct_prediction, \"float\"))\n",
    "    print(\"Accuracy:\", accuracy.eval({X: iris[:,:-1], Y: target_multiclass}))"
   ]
  },
  {
   "cell_type": "code",
   "execution_count": null,
   "metadata": {
    "collapsed": true
   },
   "outputs": [],
   "source": []
  }
 ],
 "metadata": {
  "kernelspec": {
   "display_name": "Python 3",
   "language": "python",
   "name": "python3"
  },
  "language_info": {
   "codemirror_mode": {
    "name": "ipython",
    "version": 3
   },
   "file_extension": ".py",
   "mimetype": "text/x-python",
   "name": "python",
   "nbconvert_exporter": "python",
   "pygments_lexer": "ipython3",
   "version": "3.6.2"
  }
 },
 "nbformat": 4,
 "nbformat_minor": 2
}
